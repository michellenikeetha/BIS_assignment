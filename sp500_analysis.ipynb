{
 "cells": [
  {
   "cell_type": "markdown",
   "metadata": {},
   "source": [
    "Importing Libraries and Loading Data"
   ]
  },
  {
   "cell_type": "code",
   "execution_count": 5,
   "metadata": {},
   "outputs": [
    {
     "data": {
      "text/html": [
       "<div>\n",
       "<style scoped>\n",
       "    .dataframe tbody tr th:only-of-type {\n",
       "        vertical-align: middle;\n",
       "    }\n",
       "\n",
       "    .dataframe tbody tr th {\n",
       "        vertical-align: top;\n",
       "    }\n",
       "\n",
       "    .dataframe thead th {\n",
       "        text-align: right;\n",
       "    }\n",
       "</style>\n",
       "<table border=\"1\" class=\"dataframe\">\n",
       "  <thead>\n",
       "    <tr style=\"text-align: right;\">\n",
       "      <th></th>\n",
       "      <th>Symbol</th>\n",
       "      <th>Name</th>\n",
       "      <th>Sector</th>\n",
       "      <th>Price</th>\n",
       "      <th>Price/Earnings</th>\n",
       "      <th>Dividend Yield</th>\n",
       "      <th>Earnings/Share</th>\n",
       "      <th>52 Week Low</th>\n",
       "      <th>52 Week High</th>\n",
       "      <th>Market Cap</th>\n",
       "      <th>EBITDA</th>\n",
       "      <th>Price/Sales</th>\n",
       "      <th>Price/Book</th>\n",
       "      <th>SEC Filings</th>\n",
       "    </tr>\n",
       "  </thead>\n",
       "  <tbody>\n",
       "    <tr>\n",
       "      <th>0</th>\n",
       "      <td>MMM</td>\n",
       "      <td>3M Company</td>\n",
       "      <td>Industrials</td>\n",
       "      <td>222.89</td>\n",
       "      <td>24.31</td>\n",
       "      <td>2.332862</td>\n",
       "      <td>7.92</td>\n",
       "      <td>259.77</td>\n",
       "      <td>175.490</td>\n",
       "      <td>138721055226</td>\n",
       "      <td>9.048000e+09</td>\n",
       "      <td>4.390271</td>\n",
       "      <td>11.34</td>\n",
       "      <td>http://www.sec.gov/cgi-bin/browse-edgar?action...</td>\n",
       "    </tr>\n",
       "    <tr>\n",
       "      <th>1</th>\n",
       "      <td>AOS</td>\n",
       "      <td>A.O. Smith Corp</td>\n",
       "      <td>Industrials</td>\n",
       "      <td>60.24</td>\n",
       "      <td>27.76</td>\n",
       "      <td>1.147959</td>\n",
       "      <td>1.70</td>\n",
       "      <td>68.39</td>\n",
       "      <td>48.925</td>\n",
       "      <td>10783419933</td>\n",
       "      <td>6.010000e+08</td>\n",
       "      <td>3.575483</td>\n",
       "      <td>6.35</td>\n",
       "      <td>http://www.sec.gov/cgi-bin/browse-edgar?action...</td>\n",
       "    </tr>\n",
       "    <tr>\n",
       "      <th>2</th>\n",
       "      <td>ABT</td>\n",
       "      <td>Abbott Laboratories</td>\n",
       "      <td>Health Care</td>\n",
       "      <td>56.27</td>\n",
       "      <td>22.51</td>\n",
       "      <td>1.908982</td>\n",
       "      <td>0.26</td>\n",
       "      <td>64.60</td>\n",
       "      <td>42.280</td>\n",
       "      <td>102121042306</td>\n",
       "      <td>5.744000e+09</td>\n",
       "      <td>3.740480</td>\n",
       "      <td>3.19</td>\n",
       "      <td>http://www.sec.gov/cgi-bin/browse-edgar?action...</td>\n",
       "    </tr>\n",
       "    <tr>\n",
       "      <th>3</th>\n",
       "      <td>ABBV</td>\n",
       "      <td>AbbVie Inc.</td>\n",
       "      <td>Health Care</td>\n",
       "      <td>108.48</td>\n",
       "      <td>19.41</td>\n",
       "      <td>2.499560</td>\n",
       "      <td>3.29</td>\n",
       "      <td>125.86</td>\n",
       "      <td>60.050</td>\n",
       "      <td>181386347059</td>\n",
       "      <td>1.031000e+10</td>\n",
       "      <td>6.291571</td>\n",
       "      <td>26.14</td>\n",
       "      <td>http://www.sec.gov/cgi-bin/browse-edgar?action...</td>\n",
       "    </tr>\n",
       "    <tr>\n",
       "      <th>4</th>\n",
       "      <td>ACN</td>\n",
       "      <td>Accenture plc</td>\n",
       "      <td>Information Technology</td>\n",
       "      <td>150.51</td>\n",
       "      <td>25.47</td>\n",
       "      <td>1.714470</td>\n",
       "      <td>5.44</td>\n",
       "      <td>162.60</td>\n",
       "      <td>114.820</td>\n",
       "      <td>98765855553</td>\n",
       "      <td>5.643228e+09</td>\n",
       "      <td>2.604117</td>\n",
       "      <td>10.62</td>\n",
       "      <td>http://www.sec.gov/cgi-bin/browse-edgar?action...</td>\n",
       "    </tr>\n",
       "  </tbody>\n",
       "</table>\n",
       "</div>"
      ],
      "text/plain": [
       "  Symbol                 Name                  Sector   Price  Price/Earnings  \\\n",
       "0    MMM           3M Company             Industrials  222.89           24.31   \n",
       "1    AOS      A.O. Smith Corp             Industrials   60.24           27.76   \n",
       "2    ABT  Abbott Laboratories             Health Care   56.27           22.51   \n",
       "3   ABBV          AbbVie Inc.             Health Care  108.48           19.41   \n",
       "4    ACN        Accenture plc  Information Technology  150.51           25.47   \n",
       "\n",
       "   Dividend Yield  Earnings/Share  52 Week Low  52 Week High    Market Cap  \\\n",
       "0        2.332862            7.92       259.77       175.490  138721055226   \n",
       "1        1.147959            1.70        68.39        48.925   10783419933   \n",
       "2        1.908982            0.26        64.60        42.280  102121042306   \n",
       "3        2.499560            3.29       125.86        60.050  181386347059   \n",
       "4        1.714470            5.44       162.60       114.820   98765855553   \n",
       "\n",
       "         EBITDA  Price/Sales  Price/Book  \\\n",
       "0  9.048000e+09     4.390271       11.34   \n",
       "1  6.010000e+08     3.575483        6.35   \n",
       "2  5.744000e+09     3.740480        3.19   \n",
       "3  1.031000e+10     6.291571       26.14   \n",
       "4  5.643228e+09     2.604117       10.62   \n",
       "\n",
       "                                         SEC Filings  \n",
       "0  http://www.sec.gov/cgi-bin/browse-edgar?action...  \n",
       "1  http://www.sec.gov/cgi-bin/browse-edgar?action...  \n",
       "2  http://www.sec.gov/cgi-bin/browse-edgar?action...  \n",
       "3  http://www.sec.gov/cgi-bin/browse-edgar?action...  \n",
       "4  http://www.sec.gov/cgi-bin/browse-edgar?action...  "
      ]
     },
     "execution_count": 5,
     "metadata": {},
     "output_type": "execute_result"
    }
   ],
   "source": [
    "import pandas as pd\n",
    "import numpy as np\n",
    "import matplotlib.pyplot as plt\n",
    "import seaborn as sns\n",
    "import plotly.express as px\n",
    "\n",
    "df = pd.read_csv(\"constituents-financials_csv.csv\")\n",
    "df.head()"
   ]
  },
  {
   "cell_type": "markdown",
   "metadata": {},
   "source": [
    "Checking for Missing Values"
   ]
  },
  {
   "cell_type": "code",
   "execution_count": 6,
   "metadata": {},
   "outputs": [
    {
     "name": "stdout",
     "output_type": "stream",
     "text": [
      "Symbol            0\n",
      "Name              0\n",
      "Sector            0\n",
      "Price             0\n",
      "Price/Earnings    2\n",
      "Dividend Yield    0\n",
      "Earnings/Share    0\n",
      "52 Week Low       0\n",
      "52 Week High      0\n",
      "Market Cap        0\n",
      "EBITDA            0\n",
      "Price/Sales       0\n",
      "Price/Book        8\n",
      "SEC Filings       0\n",
      "dtype: int64\n"
     ]
    }
   ],
   "source": [
    "print(df.isnull().sum())"
   ]
  },
  {
   "cell_type": "markdown",
   "metadata": {},
   "source": [
    "Handling missing values - dropping rows with missing values"
   ]
  },
  {
   "cell_type": "code",
   "execution_count": 7,
   "metadata": {},
   "outputs": [],
   "source": [
    "df.dropna(inplace=True)  "
   ]
  },
  {
   "cell_type": "code",
   "execution_count": 8,
   "metadata": {},
   "outputs": [
    {
     "name": "stdout",
     "output_type": "stream",
     "text": [
      "Symbol            0\n",
      "Name              0\n",
      "Sector            0\n",
      "Price             0\n",
      "Price/Earnings    0\n",
      "Dividend Yield    0\n",
      "Earnings/Share    0\n",
      "52 Week Low       0\n",
      "52 Week High      0\n",
      "Market Cap        0\n",
      "EBITDA            0\n",
      "Price/Sales       0\n",
      "Price/Book        0\n",
      "SEC Filings       0\n",
      "dtype: int64\n"
     ]
    }
   ],
   "source": [
    "print(df.isnull().sum())"
   ]
  },
  {
   "cell_type": "markdown",
   "metadata": {},
   "source": [
    "Data types"
   ]
  },
  {
   "cell_type": "code",
   "execution_count": 19,
   "metadata": {},
   "outputs": [
    {
     "name": "stdout",
     "output_type": "stream",
     "text": [
      "<class 'pandas.core.frame.DataFrame'>\n",
      "Index: 495 entries, 0 to 504\n",
      "Data columns (total 14 columns):\n",
      " #   Column          Non-Null Count  Dtype  \n",
      "---  ------          --------------  -----  \n",
      " 0   Symbol          495 non-null    object \n",
      " 1   Name            495 non-null    object \n",
      " 2   Sector          495 non-null    object \n",
      " 3   Price           495 non-null    float64\n",
      " 4   Price/Earnings  495 non-null    float64\n",
      " 5   Dividend Yield  495 non-null    float64\n",
      " 6   Earnings/Share  495 non-null    float64\n",
      " 7   52 Week Low     495 non-null    float64\n",
      " 8   52 Week High    495 non-null    float64\n",
      " 9   Market Cap      495 non-null    int64  \n",
      " 10  EBITDA          495 non-null    int64  \n",
      " 11  Price/Sales     495 non-null    float64\n",
      " 12  Price/Book      495 non-null    float64\n",
      " 13  SEC Filings     495 non-null    object \n",
      "dtypes: float64(8), int64(2), object(4)\n",
      "memory usage: 58.0+ KB\n"
     ]
    }
   ],
   "source": [
    "df.info()"
   ]
  },
  {
   "cell_type": "markdown",
   "metadata": {},
   "source": [
    "Unique Sectors"
   ]
  },
  {
   "cell_type": "code",
   "execution_count": 20,
   "metadata": {},
   "outputs": [
    {
     "data": {
      "text/plain": [
       "array(['Industrials', 'Health Care', 'Information Technology',\n",
       "       'Consumer Discretionary', 'Utilities', 'Financials', 'Materials',\n",
       "       'Real Estate', 'Consumer Staples', 'Energy',\n",
       "       'Telecommunication Services'], dtype=object)"
      ]
     },
     "execution_count": 20,
     "metadata": {},
     "output_type": "execute_result"
    }
   ],
   "source": [
    "df[\"Sector\"].unique()"
   ]
  },
  {
   "cell_type": "markdown",
   "metadata": {},
   "source": [
    "Identifying categorical columns"
   ]
  },
  {
   "cell_type": "code",
   "execution_count": 21,
   "metadata": {},
   "outputs": [
    {
     "name": "stdout",
     "output_type": "stream",
     "text": [
      "Columns without numeric data: Symbol, Name, Sector, SEC Filings\n"
     ]
    }
   ],
   "source": [
    "col_name_without_numeric_data = list(df.select_dtypes(exclude=[np.number]).columns)\n",
    "print(f\"Columns without numeric data: {', '.join(col_name_without_numeric_data)}\")\n"
   ]
  },
  {
   "cell_type": "markdown",
   "metadata": {},
   "source": [
    "Checking for duplicates in columns"
   ]
  },
  {
   "cell_type": "code",
   "execution_count": 22,
   "metadata": {},
   "outputs": [
    {
     "name": "stdout",
     "output_type": "stream",
     "text": [
      "column Symbol does not contain duplicates.\n",
      "column Name does not contain duplicates.\n",
      "column Sector contains duplicates.\n",
      "column SEC Filings does not contain duplicates.\n"
     ]
    }
   ],
   "source": [
    "for col in col_name_without_numeric_data:\n",
    "    if df[col].duplicated().any() == True:\n",
    "        print(f\"column {col} contains duplicates.\")\n",
    "    else:\n",
    "        print(f\"column {col} does not contain duplicates.\")"
   ]
  },
  {
   "cell_type": "markdown",
   "metadata": {},
   "source": [
    "Changing the data type"
   ]
  },
  {
   "cell_type": "code",
   "execution_count": 23,
   "metadata": {},
   "outputs": [],
   "source": [
    "df[\"EBITDA\"] = df[\"EBITDA\"].astype(\"int64\")"
   ]
  },
  {
   "cell_type": "code",
   "execution_count": 24,
   "metadata": {},
   "outputs": [
    {
     "data": {
      "text/html": [
       "<div>\n",
       "<style scoped>\n",
       "    .dataframe tbody tr th:only-of-type {\n",
       "        vertical-align: middle;\n",
       "    }\n",
       "\n",
       "    .dataframe tbody tr th {\n",
       "        vertical-align: top;\n",
       "    }\n",
       "\n",
       "    .dataframe thead th {\n",
       "        text-align: right;\n",
       "    }\n",
       "</style>\n",
       "<table border=\"1\" class=\"dataframe\">\n",
       "  <thead>\n",
       "    <tr style=\"text-align: right;\">\n",
       "      <th></th>\n",
       "      <th>Symbol</th>\n",
       "      <th>Name</th>\n",
       "      <th>Sector</th>\n",
       "      <th>Price</th>\n",
       "      <th>Price/Earnings</th>\n",
       "      <th>Dividend Yield</th>\n",
       "      <th>Earnings/Share</th>\n",
       "      <th>52 Week Low</th>\n",
       "      <th>52 Week High</th>\n",
       "      <th>Market Cap</th>\n",
       "      <th>EBITDA</th>\n",
       "      <th>Price/Sales</th>\n",
       "      <th>Price/Book</th>\n",
       "      <th>SEC Filings</th>\n",
       "    </tr>\n",
       "  </thead>\n",
       "  <tbody>\n",
       "    <tr>\n",
       "      <th>0</th>\n",
       "      <td>MMM</td>\n",
       "      <td>3M Company</td>\n",
       "      <td>Industrials</td>\n",
       "      <td>222.89</td>\n",
       "      <td>24.31</td>\n",
       "      <td>2.332862</td>\n",
       "      <td>7.92</td>\n",
       "      <td>259.77</td>\n",
       "      <td>175.490</td>\n",
       "      <td>138721055226</td>\n",
       "      <td>9048000000</td>\n",
       "      <td>4.390271</td>\n",
       "      <td>11.34</td>\n",
       "      <td>http://www.sec.gov/cgi-bin/browse-edgar?action...</td>\n",
       "    </tr>\n",
       "    <tr>\n",
       "      <th>1</th>\n",
       "      <td>AOS</td>\n",
       "      <td>A.O. Smith Corp</td>\n",
       "      <td>Industrials</td>\n",
       "      <td>60.24</td>\n",
       "      <td>27.76</td>\n",
       "      <td>1.147959</td>\n",
       "      <td>1.70</td>\n",
       "      <td>68.39</td>\n",
       "      <td>48.925</td>\n",
       "      <td>10783419933</td>\n",
       "      <td>601000000</td>\n",
       "      <td>3.575483</td>\n",
       "      <td>6.35</td>\n",
       "      <td>http://www.sec.gov/cgi-bin/browse-edgar?action...</td>\n",
       "    </tr>\n",
       "    <tr>\n",
       "      <th>2</th>\n",
       "      <td>ABT</td>\n",
       "      <td>Abbott Laboratories</td>\n",
       "      <td>Health Care</td>\n",
       "      <td>56.27</td>\n",
       "      <td>22.51</td>\n",
       "      <td>1.908982</td>\n",
       "      <td>0.26</td>\n",
       "      <td>64.60</td>\n",
       "      <td>42.280</td>\n",
       "      <td>102121042306</td>\n",
       "      <td>5744000000</td>\n",
       "      <td>3.740480</td>\n",
       "      <td>3.19</td>\n",
       "      <td>http://www.sec.gov/cgi-bin/browse-edgar?action...</td>\n",
       "    </tr>\n",
       "    <tr>\n",
       "      <th>3</th>\n",
       "      <td>ABBV</td>\n",
       "      <td>AbbVie Inc.</td>\n",
       "      <td>Health Care</td>\n",
       "      <td>108.48</td>\n",
       "      <td>19.41</td>\n",
       "      <td>2.499560</td>\n",
       "      <td>3.29</td>\n",
       "      <td>125.86</td>\n",
       "      <td>60.050</td>\n",
       "      <td>181386347059</td>\n",
       "      <td>10310000000</td>\n",
       "      <td>6.291571</td>\n",
       "      <td>26.14</td>\n",
       "      <td>http://www.sec.gov/cgi-bin/browse-edgar?action...</td>\n",
       "    </tr>\n",
       "    <tr>\n",
       "      <th>4</th>\n",
       "      <td>ACN</td>\n",
       "      <td>Accenture plc</td>\n",
       "      <td>Information Technology</td>\n",
       "      <td>150.51</td>\n",
       "      <td>25.47</td>\n",
       "      <td>1.714470</td>\n",
       "      <td>5.44</td>\n",
       "      <td>162.60</td>\n",
       "      <td>114.820</td>\n",
       "      <td>98765855553</td>\n",
       "      <td>5643228000</td>\n",
       "      <td>2.604117</td>\n",
       "      <td>10.62</td>\n",
       "      <td>http://www.sec.gov/cgi-bin/browse-edgar?action...</td>\n",
       "    </tr>\n",
       "  </tbody>\n",
       "</table>\n",
       "</div>"
      ],
      "text/plain": [
       "  Symbol                 Name                  Sector   Price  Price/Earnings  \\\n",
       "0    MMM           3M Company             Industrials  222.89           24.31   \n",
       "1    AOS      A.O. Smith Corp             Industrials   60.24           27.76   \n",
       "2    ABT  Abbott Laboratories             Health Care   56.27           22.51   \n",
       "3   ABBV          AbbVie Inc.             Health Care  108.48           19.41   \n",
       "4    ACN        Accenture plc  Information Technology  150.51           25.47   \n",
       "\n",
       "   Dividend Yield  Earnings/Share  52 Week Low  52 Week High    Market Cap  \\\n",
       "0        2.332862            7.92       259.77       175.490  138721055226   \n",
       "1        1.147959            1.70        68.39        48.925   10783419933   \n",
       "2        1.908982            0.26        64.60        42.280  102121042306   \n",
       "3        2.499560            3.29       125.86        60.050  181386347059   \n",
       "4        1.714470            5.44       162.60       114.820   98765855553   \n",
       "\n",
       "        EBITDA  Price/Sales  Price/Book  \\\n",
       "0   9048000000     4.390271       11.34   \n",
       "1    601000000     3.575483        6.35   \n",
       "2   5744000000     3.740480        3.19   \n",
       "3  10310000000     6.291571       26.14   \n",
       "4   5643228000     2.604117       10.62   \n",
       "\n",
       "                                         SEC Filings  \n",
       "0  http://www.sec.gov/cgi-bin/browse-edgar?action...  \n",
       "1  http://www.sec.gov/cgi-bin/browse-edgar?action...  \n",
       "2  http://www.sec.gov/cgi-bin/browse-edgar?action...  \n",
       "3  http://www.sec.gov/cgi-bin/browse-edgar?action...  \n",
       "4  http://www.sec.gov/cgi-bin/browse-edgar?action...  "
      ]
     },
     "execution_count": 24,
     "metadata": {},
     "output_type": "execute_result"
    }
   ],
   "source": [
    "df.head()"
   ]
  },
  {
   "cell_type": "markdown",
   "metadata": {},
   "source": [
    "Summary Statistics"
   ]
  },
  {
   "cell_type": "code",
   "execution_count": 30,
   "metadata": {},
   "outputs": [
    {
     "name": "stdout",
     "output_type": "stream",
     "text": [
      "             Price  Price/Earnings  Dividend Yield  Earnings/Share  \\\n",
      "count   495.000000      495.000000      495.000000      495.000000   \n",
      "mean    104.106505       24.654303        1.901477        3.815192   \n",
      "std     135.372594       40.767081        1.541039        5.529133   \n",
      "min       2.820000     -251.530000        0.000000      -24.620000   \n",
      "25%      46.355000       15.350000        0.795585        1.525000   \n",
      "50%      73.920000       19.450000        1.790190        2.890000   \n",
      "75%     116.735000       25.770000        2.797169        5.120000   \n",
      "max    1806.060000      520.150000       12.661196       44.090000   \n",
      "\n",
      "       52 Week Low  52 Week High    Market Cap        EBITDA  Price/Sales  \\\n",
      "count   495.000000    495.000000  4.950000e+02  4.950000e+02   495.000000   \n",
      "mean    122.985808     83.812053  4.937665e+10  3.576406e+09     3.953316   \n",
      "std     156.480433    106.497350  9.069162e+10  6.880742e+09     3.485055   \n",
      "min       6.590000      2.800000  2.626102e+09 -5.067000e+09     0.153186   \n",
      "25%      56.350000     38.520000  1.274957e+10  7.708980e+08     1.631733   \n",
      "50%      86.680000     62.850000  2.143378e+10  1.613000e+09     2.880285   \n",
      "75%     140.315000     96.610000  4.499315e+10  3.657500e+09     4.728857   \n",
      "max    2067.990000   1589.000000  8.095080e+11  7.938600e+10    20.094294   \n",
      "\n",
      "        Price/Book  \n",
      "count   495.000000  \n",
      "mean     14.498687  \n",
      "std      89.838923  \n",
      "min       0.510000  \n",
      "25%       2.020000  \n",
      "50%       3.400000  \n",
      "75%       6.130000  \n",
      "max    1403.380000  \n"
     ]
    }
   ],
   "source": [
    "print(df.describe())"
   ]
  },
  {
   "cell_type": "markdown",
   "metadata": {},
   "source": [
    "Sector-wise Market Cap Distribution"
   ]
  },
  {
   "cell_type": "code",
   "execution_count": 31,
   "metadata": {},
   "outputs": [
    {
     "name": "stderr",
     "output_type": "stream",
     "text": [
      "C:\\Users\\HP\\AppData\\Local\\Temp\\ipykernel_28340\\1210419177.py:3: FutureWarning: \n",
      "\n",
      "Passing `palette` without assigning `hue` is deprecated and will be removed in v0.14.0. Assign the `x` variable to `hue` and set `legend=False` for the same effect.\n",
      "\n",
      "  sns.boxplot(x='Sector', y='Market Cap', data=df, palette=\"viridis\")\n"
     ]
    },
    {
     "data": {
      "image/png": "[encoded data removed]",
      "text/plain": [
       "<Figure size 1400x700 with 1 Axes>"
      ]
     },
     "metadata": {},
     "output_type": "display_data"
    }
   ],
   "source": [
    "sns.set_style(\"whitegrid\")\n",
    "plt.figure(figsize=(14, 7))\n",
    "sns.boxplot(x='Sector', y='Market Cap', data=df, palette=\"viridis\")\n",
    "\n",
    "plt.xticks(rotation=45, ha='right', fontsize=12)\n",
    "plt.yticks(fontsize=12)\n",
    "plt.xlabel(\"Sector\", fontsize=14, fontweight='bold')\n",
    "plt.ylabel(\"Market Cap (in billions)\", fontsize=14, fontweight='bold')\n",
    "plt.title(\"Market Cap Distribution by Sector\", fontsize=16, fontweight='bold', pad=15)\n",
    "\n",
    "sns.despine()\n",
    "plt.show()\n"
   ]
  },
  {
   "cell_type": "markdown",
   "metadata": {},
   "source": [
    "Top 10 Companies by Market Cap"
   ]
  },
  {
   "cell_type": "code",
   "execution_count": 26,
   "metadata": {},
   "outputs": [
    {
     "data": {
      "image/png": "[encoded data removed]",
      "text/plain": [
       "<Figure size 1000x500 with 1 Axes>"
      ]
     },
     "metadata": {},
     "output_type": "display_data"
    }
   ],
   "source": [
    "top_companies = df.nlargest(10, 'Market Cap')\n",
    "plt.figure(figsize=(10,5))\n",
    "sns.barplot(x='Market Cap', y='Name', data=top_companies)\n",
    "plt.title(\"Top 10 S&P 500 Companies by Market Cap\")\n",
    "plt.show()"
   ]
  },
  {
   "cell_type": "markdown",
   "metadata": {},
   "source": [
    "Correlation Matrix"
   ]
  },
  {
   "cell_type": "code",
   "execution_count": 36,
   "metadata": {},
   "outputs": [
    {
     "data": {
      "image/png": "[encoded data removed]",
      "text/plain": [
       "<Figure size 1000x600 with 2 Axes>"
      ]
     },
     "metadata": {},
     "output_type": "display_data"
    }
   ],
   "source": [
    "numeric_df = df.select_dtypes(include=[np.number])\n",
    "corr_matrix = numeric_df.corr()\n",
    "\n",
    "plt.figure(figsize=(10,6))\n",
    "sns.heatmap(corr_matrix, annot=True, cmap=\"coolwarm\", fmt=\".2f\")\n",
    "plt.title(\"Correlation Heatmap\")\n",
    "plt.show()"
   ]
  },
  {
   "cell_type": "code",
   "execution_count": 32,
   "metadata": {},
   "outputs": [
    {
     "data": {
      "image/png": "[encoded data removed]",
      "text/plain": [
       "<Figure size 800x600 with 2 Axes>"
      ]
     },
     "metadata": {},
     "output_type": "display_data"
    }
   ],
   "source": [
    "corr = df[['Market Cap', 'Price', 'Price/Earnings', 'Earnings/Share', 'Price/Sales', 'Price/Book']].corr()\n",
    "\n",
    "plt.figure(figsize=(8,6))\n",
    "sns.heatmap(corr, annot=True, cmap='coolwarm')\n",
    "plt.title(\"Correlation Matrix\")\n",
    "plt.show()"
   ]
  },
  {
   "cell_type": "markdown",
   "metadata": {},
   "source": [
    "Distribution of Stocl Prices"
   ]
  },
  {
   "cell_type": "code",
   "execution_count": 37,
   "metadata": {},
   "outputs": [
    {
     "data": {
      "image/png": "[encoded data removed]",
      "text/plain": [
       "<Figure size 800x500 with 1 Axes>"
      ]
     },
     "metadata": {},
     "output_type": "display_data"
    }
   ],
   "source": [
    "plt.figure(figsize=(8,5))\n",
    "sns.histplot(df[\"Price\"], bins=30, kde=True)\n",
    "plt.title(\"Stock Price Distribution\")\n",
    "plt.xlabel(\"Stock Price\")\n",
    "plt.ylabel(\"Frequency\")\n",
    "plt.show()"
   ]
  },
  {
   "cell_type": "markdown",
   "metadata": {},
   "source": [
    "Sector-wise Stock Price Analysis"
   ]
  },
  {
   "cell_type": "code",
   "execution_count": 38,
   "metadata": {},
   "outputs": [
    {
     "data": {
      "image/png": "[encoded data removed]",
      "text/plain": [
       "<Figure size 1200x600 with 1 Axes>"
      ]
     },
     "metadata": {},
     "output_type": "display_data"
    }
   ],
   "source": [
    "plt.figure(figsize=(12,6))\n",
    "sns.boxplot(x=\"Sector\", y=\"Price\", data=df)\n",
    "plt.xticks(rotation=90)\n",
    "plt.title(\"Stock Price Distribution by Sector\")\n",
    "plt.show()"
   ]
  },
  {
   "cell_type": "markdown",
   "metadata": {},
   "source": [
    "Market Cap Vs. Stock Price"
   ]
  },
  {
   "cell_type": "code",
   "execution_count": 39,
   "metadata": {},
   "outputs": [
    {
     "data": {
      "application/vnd.plotly.v1+json": {
       "config": {
        "plotlyServerURL": "https://plot.ly"
       },
       "data": [
        {
         "customdata": [
          [
           "3M Company"
          ],
          [
           "A.O. Smith Corp"
          ],
          [
           "Acuity Brands Inc"
          ],
          [
           "Alaska Air Group Inc"
          ],
          [
           "Allegion"
          ],
          [
           "American Airlines Group"
          ],
          [
           "AMETEK Inc"
          ],
          [
           "Boeing Company"
          ],
          [
           "C. H. Robinson Worldwide"
          ],
          [
           "Caterpillar Inc."
          ],
          [
           "Cintas Corporation"
          ],
          [
           "CSX Corp."
          ],
          [
           "Cummins Inc."
          ],
          [
           "Deere & Co."
          ],
          [
           "Delta Air Lines Inc."
          ],
          [
           "Dover Corp."
          ],
          [
           "Eaton Corporation"
          ],
          [
           "Emerson Electric Company"
          ],
          [
           "Equifax Inc."
          ],
          [
           "Expeditors International"
          ],
          [
           "Fastenal Co"
          ],
          [
           "FedEx Corporation"
          ],
          [
           "Flowserve Corporation"
          ],
          [
           "Fluor Corp."
          ],
          [
           "Fortive Corp"
          ],
          [
           "Fortune Brands Home & Security"
          ],
          [
           "General Dynamics"
          ],
          [
           "General Electric"
          ],
          [
           "Grainger (W.W.) Inc."
          ],
          [
           "Honeywell Int'l Inc."
          ],
          [
           "Huntington Ingalls Industries"
          ],
          [
           "IHS Markit Ltd."
          ],
          [
           "Illinois Tool Works"
          ],
          [
           "Ingersoll-Rand PLC"
          ],
          [
           "J. B. Hunt Transport Services"
          ],
          [
           "Jacobs Engineering Group"
          ],
          [
           "Johnson Controls International"
          ],
          [
           "Kansas City Southern"
          ],
          [
           "L-3 Communications Holdings"
          ],
          [
           "Lockheed Martin Corp."
          ],
          [
           "Masco Corp."
          ],
          [
           "Nielsen Holdings"
          ],
          [
           "Norfolk Southern Corp."
          ],
          [
           "Northrop Grumman Corp."
          ],
          [
           "PACCAR Inc."
          ],
          [
           "Parker-Hannifin"
          ],
          [
           "Pentair Ltd."
          ],
          [
           "Quanta Services Inc."
          ],
          [
           "Raytheon Co."
          ],
          [
           "Republic Services Inc"
          ],
          [
           "Robert Half International"
          ],
          [
           "Rockwell Automation Inc."
          ],
          [
           "Rockwell Collins"
          ],
          [
           "Roper Technologies"
          ],
          [
           "Southwest Airlines"
          ],
          [
           "Stericycle Inc"
          ],
          [
           "Textron Inc."
          ],
          [
           "United Continental Holdings"
          ],
          [
           "United Parcel Service"
          ],
          [
           "United Rentals, Inc."
          ],
          [
           "United Technologies"
          ],
          [
           "Verisk Analytics"
          ],
          [
           "Waste Management Inc."
          ],
          [
           "Xylem Inc."
          ]
         ],
         "hovertemplate": "Sector=Industrials<br>Market Cap=%{marker.size}<br>Price=%{y}<br>Name=%{customdata[0]}<extra></extra>",
         "legendgroup": "Industrials",
         "marker": {
          "color": "#636efa",
          "size": [
           138721055226,
           10783419933,
           6242377704,
           7903173734,
           7599609494,
           24594852352,
           17139651923,
           205617405233,
           12932483889,
           91822049046,
           16676145923,
           47340511707,
           28669230787,
           52186628646,
           38393603535,
           15566645713,
           35961772000,
           44040298425,
           14121334618,
           11040678071,
           15311373377,
           67280478816,
           5427884956,
           7978485059,
           24916503061,
           9624169008,
           64180390701,
           132249296250,
           14639308205,
           114422168609,
           10628247899,
           17969275816,
           55994378108,
           22785450609,
           12945366350,
           9326484316,
           34822224800,
           11037040988,
           16229343134,
           98102120000,
           13428792315,
           13377670080,
           40543547441,
           58782413951,
           24152102921,
           24421668509,
           12466660892,
           5330131216,
           59066255840,
           21590903863,
           7047165475,
           24123216432,
           22197870556,
           27247789759,
           34351211637,
           6218560288,
           15254672353,
           19363059152,
           96436356833,
           14654954091,
           105387272474,
           15594677147,
           35488486675,
           12915021000
          ],
          "sizemode": "area",
          "sizeref": 2023770085.05,
          "symbol": "circle"
         },
         "mode": "markers",
         "name": "Industrials",
         "orientation": "v",
         "showlegend": true,
         "type": "scatter",
         "x": [
          138721055226,
          10783419933,
          6242377704,
          7903173734,
          7599609494,
          24594852352,
          17139651923,
          205617405233,
          12932483889,
          91822049046,
          16676145923,
          47340511707,
          28669230787,
          52186628646,
          38393603535,
          15566645713,
          35961772000,
          44040298425,
          14121334618,
          11040678071,
          15311373377,
          67280478816,
          5427884956,
          7978485059,
          24916503061,
          9624169008,
          64180390701,
          132249296250,
          14639308205,
          114422168609,
          10628247899,
          17969275816,
          55994378108,
          22785450609,
          12945366350,
          9326484316,
          34822224800,
          11037040988,
          16229343134,
          98102120000,
          13428792315,
          13377670080,
          40543547441,
          58782413951,
          24152102921,
          24421668509,
          12466660892,
          5330131216,
          59066255840,
          21590903863,
          7047165475,
          24123216432,
          22197870556,
          27247789759,
          34351211637,
          6218560288,
          15254672353,
          19363059152,
          96436356833,
          14654954091,
          105387272474,
          15594677147,
          35488486675,
          12915021000
         ],
         "xaxis": "x",
         "y": [
          222.89,
          60.24,
          145.41,
          64.04,
          77.32,
          48.6,
          72.05,
          329.66,
          90.47,
          145.99,
          149.32,
          50.47,
          165.73,
          153.66,
          51.23,
          96.2,
          79.41,
          66.4,
          114,
          60.36,
          52.15,
          239.27,
          40.82,
          55.31,
          69.14,
          62.44,
          206.05,
          14.45,
          258.6,
          146.02,
          225.37,
          43.73,
          156.15,
          87.6,
          114.81,
          62.82,
          36.55,
          103.53,
          198.79,
          334.3,
          40.7,
          33.9,
          136.89,
          324.01,
          66.98,
          174.51,
          66.67,
          33.51,
          198.74,
          62.72,
          52.26,
          178.73,
          133.31,
          259.4,
          55.63,
          70.55,
          55.54,
          63.37,
          109.28,
          161.99,
          127.48,
          92.28,
          79.12,
          70.24
         ],
         "yaxis": "y"
        },
        {
         "customdata": [
          [
           "Abbott Laboratories"
          ],
          [
           "AbbVie Inc."
          ],
          [
           "Aetna Inc"
          ],
          [
           "Agilent Technologies Inc"
          ],
          [
           "Alexion Pharmaceuticals"
          ],
          [
           "Align Technology"
          ],
          [
           "Allergan, Plc"
          ],
          [
           "AmerisourceBergen Corp"
          ],
          [
           "Amgen Inc"
          ],
          [
           "Anthem Inc."
          ],
          [
           "Baxter International Inc."
          ],
          [
           "Becton Dickinson"
          ],
          [
           "Biogen Inc."
          ],
          [
           "Boston Scientific"
          ],
          [
           "Bristol-Myers Squibb"
          ],
          [
           "Cardinal Health Inc."
          ],
          [
           "Celgene Corp."
          ],
          [
           "Centene Corporation"
          ],
          [
           "Cerner"
          ],
          [
           "CIGNA Corp."
          ],
          [
           "Danaher Corp."
          ],
          [
           "DaVita Inc."
          ],
          [
           "Dentsply Sirona"
          ],
          [
           "Edwards Lifesciences"
          ],
          [
           "Envision Healthcare"
          ],
          [
           "Express Scripts"
          ],
          [
           "Gilead Sciences"
          ],
          [
           "Henry Schein"
          ],
          [
           "Hologic"
          ],
          [
           "Humana Inc."
          ],
          [
           "IDEXX Laboratories"
          ],
          [
           "Illumina Inc"
          ],
          [
           "Incyte"
          ],
          [
           "Intuitive Surgical Inc."
          ],
          [
           "IQVIA Holdings Inc."
          ],
          [
           "Johnson & Johnson"
          ],
          [
           "Laboratory Corp. of America Holding"
          ],
          [
           "Lilly (Eli) & Co."
          ],
          [
           "McKesson Corp."
          ],
          [
           "Medtronic plc"
          ],
          [
           "Merck & Co."
          ],
          [
           "Mettler Toledo"
          ],
          [
           "Mylan N.V."
          ],
          [
           "Patterson Companies"
          ],
          [
           "PerkinElmer"
          ],
          [
           "Pfizer Inc."
          ],
          [
           "Quest Diagnostics"
          ],
          [
           "Regeneron"
          ],
          [
           "ResMed"
          ],
          [
           "Stryker Corp."
          ],
          [
           "The Cooper Companies"
          ],
          [
           "Thermo Fisher Scientific"
          ],
          [
           "United Health Group Inc."
          ],
          [
           "Universal Health Services, Inc."
          ],
          [
           "Varian Medical Systems"
          ],
          [
           "Vertex Pharmaceuticals Inc"
          ],
          [
           "Waters Corporation"
          ],
          [
           "Zimmer Biomet Holdings"
          ],
          [
           "Zoetis"
          ]
         ],
         "hovertemplate": "Sector=Health Care<br>Market Cap=%{marker.size}<br>Price=%{y}<br>Name=%{customdata[0]}<extra></extra>",
         "legendgroup": "Health Care",
         "marker": {
          "color": "#EF553B",
          "size": [
           102121042306,
           181386347059,
           59197016353,
           21984606918,
           26172439795,
           18788041378,
           56668833898,
           20587704101,
           128133340000,
           61221978627,
           35713732553,
           50910180308,
           69157726427,
           36142506007,
           102506501960,
           20493281175,
           74921079154,
           18012494506,
           21101697598,
           47680910480,
           66351150000,
           13685178000,
           13390513478,
           27447099863,
           4212729247,
           42449656350,
           108106822109,
           11452961984,
           11181493750,
           36973617235,
           15422885020,
           32295200000,
           18220961259,
           44866621303,
           20426488713,
           353062464971,
           17271388000,
           84475986228,
           31534840262,
           110107062300,
           152241530340,
           16420774443,
           21698849265,
           3209792400,
           8351767268,
           208505541949,
           13578300000,
           35950369241,
           13233622689,
           57509096756,
           11297958140,
           83226586345,
           218834811333,
           11116075286,
           10692681720,
           39369386348,
           16064078572,
           24454698119,
           35991109776
          ],
          "sizemode": "area",
          "sizeref": 2023770085.05,
          "symbol": "circle"
         },
         "mode": "markers",
         "name": "Health Care",
         "orientation": "v",
         "showlegend": true,
         "type": "scatter",
         "x": [
          102121042306,
          181386347059,
          59197016353,
          21984606918,
          26172439795,
          18788041378,
          56668833898,
          20587704101,
          128133340000,
          61221978627,
          35713732553,
          50910180308,
          69157726427,
          36142506007,
          102506501960,
          20493281175,
          74921079154,
          18012494506,
          21101697598,
          47680910480,
          66351150000,
          13685178000,
          13390513478,
          27447099863,
          4212729247,
          42449656350,
          108106822109,
          11452961984,
          11181493750,
          36973617235,
          15422885020,
          32295200000,
          18220961259,
          44866621303,
          20426488713,
          353062464971,
          17271388000,
          84475986228,
          31534840262,
          110107062300,
          152241530340,
          16420774443,
          21698849265,
          3209792400,
          8351767268,
          208505541949,
          13578300000,
          35950369241,
          13233622689,
          57509096756,
          11297958140,
          83226586345,
          218834811333,
          11116075286,
          10692681720,
          39369386348,
          16064078572,
          24454698119,
          35991109776
         ],
         "xaxis": "x",
         "y": [
          56.27,
          108.48,
          178,
          65.05,
          108.47,
          220.71,
          164.2,
          91.55,
          173.12,
          230.57,
          62.56,
          211.44,
          311.79,
          25.2,
          62.69,
          66.63,
          91.02,
          100.36,
          61.22,
          189.27,
          92.16,
          71.91,
          56.85,
          123.78,
          35.34,
          73.35,
          78.22,
          70.85,
          38.8,
          262.37,
          169.28,
          209.54,
          83.92,
          381.87,
          95.23,
          126.36,
          165.46,
          74.21,
          150.23,
          78.38,
          54.73,
          601,
          39.25,
          32.88,
          72.06,
          33.63,
          96.42,
          322.62,
          89.26,
          148.01,
          223.17,
          198.73,
          216.46,
          114.87,
          112.82,
          151.6,
          191.79,
          115.53,
          71.51
         ],
         "yaxis": "y"
        },
        {
         "customdata": [
          [
           "Accenture plc"
          ],
          [
           "Activision Blizzard"
          ],
          [
           "Adobe Systems Inc"
          ],
          [
           "Advanced Micro Devices Inc"
          ],
          [
           "Akamai Technologies Inc"
          ],
          [
           "Alliance Data Systems"
          ],
          [
           "Alphabet Inc Class A"
          ],
          [
           "Alphabet Inc Class C"
          ],
          [
           "Amphenol Corp"
          ],
          [
           "Analog Devices, Inc."
          ],
          [
           "ANSYS"
          ],
          [
           "Apple Inc."
          ],
          [
           "Applied Materials Inc"
          ],
          [
           "Autodesk Inc"
          ],
          [
           "Automatic Data Processing"
          ],
          [
           "Broadcom"
          ],
          [
           "CA, Inc."
          ],
          [
           "Cadence Design Systems"
          ],
          [
           "Cisco Systems"
          ],
          [
           "Citrix Systems"
          ],
          [
           "Cognizant Technology Solutions"
          ],
          [
           "Corning Inc."
          ],
          [
           "CSRA Inc."
          ],
          [
           "DXC Technology"
          ],
          [
           "eBay Inc."
          ],
          [
           "Electronic Arts"
          ],
          [
           "F5 Networks"
          ],
          [
           "Facebook, Inc."
          ],
          [
           "Fidelity National Information Services"
          ],
          [
           "Fiserv Inc"
          ],
          [
           "FLIR Systems"
          ],
          [
           "Gartner Inc"
          ],
          [
           "Global Payments Inc."
          ],
          [
           "Harris Corporation"
          ],
          [
           "Hewlett Packard Enterprise"
          ],
          [
           "HP Inc."
          ],
          [
           "Intel Corp."
          ],
          [
           "International Business Machines"
          ],
          [
           "Intuit Inc."
          ],
          [
           "Juniper Networks"
          ],
          [
           "KLA-Tencor Corp."
          ],
          [
           "Lam Research"
          ],
          [
           "Mastercard Inc."
          ],
          [
           "Microchip Technology"
          ],
          [
           "Micron Technology"
          ],
          [
           "Microsoft Corp."
          ],
          [
           "Motorola Solutions Inc."
          ],
          [
           "NetApp"
          ],
          [
           "Netflix Inc."
          ],
          [
           "Nvidia Corporation"
          ],
          [
           "Oracle Corp."
          ],
          [
           "Paychex Inc."
          ],
          [
           "PayPal"
          ],
          [
           "Qorvo"
          ],
          [
           "QUALCOMM Inc."
          ],
          [
           "Red Hat Inc."
          ],
          [
           "Salesforce.com"
          ],
          [
           "Seagate Technology"
          ],
          [
           "Skyworks Solutions"
          ],
          [
           "Symantec Corp."
          ],
          [
           "Synopsys Inc."
          ],
          [
           "TE Connectivity Ltd."
          ],
          [
           "Texas Instruments"
          ],
          [
           "Total System Services"
          ],
          [
           "Verisign Inc."
          ],
          [
           "Visa Inc."
          ],
          [
           "Western Digital"
          ],
          [
           "Western Union Co"
          ],
          [
           "Xerox Corp."
          ],
          [
           "Xilinx Inc"
          ]
         ],
         "hovertemplate": "Sector=Information Technology<br>Market Cap=%{marker.size}<br>Price=%{y}<br>Name=%{customdata[0]}<extra></extra>",
         "legendgroup": "Information Technology",
         "marker": {
          "color": "#00cc96",
          "size": [
           98765855553,
           52518668144,
           94550214268,
           11191663795,
           10906904066,
           13632608582,
           733823966137,
           728535558140,
           26955335395,
           31811578855,
           13155919129,
           809508034020,
           51296481503,
           24348294504,
           50337702249,
           92791974933,
           14175422936,
           10890625200,
           199425716482,
           13199167493,
           45119684067,
           25759280346,
           5134501276,
           27408621020,
           44216696399,
           37890226992,
           8744185796,
           523423036576,
           32308459680,
           26918949723,
           6706992926,
           10828314389,
           16920023264,
           18140726600,
           24800859640,
           34895294088,
           211536000000,
           142433003505,
           41233771565,
           9267350000,
           16078622033,
           27967534829,
           187102014193,
           19393095636,
           48576791974,
           689978437468,
           16626039679,
           15375210915,
           114805404842,
           138652800000,
           202302349740,
           23253666810,
           90708000000,
           9877885146,
           96282828902,
           22799923883,
           79489115000,
           14113197720,
           18493080922,
           16520497264,
           12767067883,
           34983666316,
           100262526470,
           15694951118,
           10754983829,
           270038723213,
           24760297793,
           8951609207,
           7938833340,
           17064975551
          ],
          "sizemode": "area",
          "sizeref": 2023770085.05,
          "symbol": "circle"
         },
         "mode": "markers",
         "name": "Information Technology",
         "orientation": "v",
         "showlegend": true,
         "type": "scatter",
         "x": [
          98765855553,
          52518668144,
          94550214268,
          11191663795,
          10906904066,
          13632608582,
          733823966137,
          728535558140,
          26955335395,
          31811578855,
          13155919129,
          809508034020,
          51296481503,
          24348294504,
          50337702249,
          92791974933,
          14175422936,
          10890625200,
          199425716482,
          13199167493,
          45119684067,
          25759280346,
          5134501276,
          27408621020,
          44216696399,
          37890226992,
          8744185796,
          523423036576,
          32308459680,
          26918949723,
          6706992926,
          10828314389,
          16920023264,
          18140726600,
          24800859640,
          34895294088,
          211536000000,
          142433003505,
          41233771565,
          9267350000,
          16078622033,
          27967534829,
          187102014193,
          19393095636,
          48576791974,
          689978437468,
          16626039679,
          15375210915,
          114805404842,
          138652800000,
          202302349740,
          23253666810,
          90708000000,
          9877885146,
          96282828902,
          22799923883,
          79489115000,
          14113197720,
          18493080922,
          16520497264,
          12767067883,
          34983666316,
          100262526470,
          15694951118,
          10754983829,
          270038723213,
          24760297793,
          8951609207,
          7938833340,
          17064975551
         ],
         "xaxis": "x",
         "y": [
          150.51,
          65.83,
          185.16,
          11.22,
          62.49,
          240.6,
          1007.71,
          1001.52,
          84.44,
          82.68,
          148.84,
          155.15,
          45.75,
          104.81,
          108.25,
          229.57,
          32.66,
          36.82,
          38.77,
          84.53,
          75.16,
          28.45,
          30.85,
          91.92,
          41.02,
          116.54,
          137.25,
          171.58,
          92.74,
          133.05,
          46.46,
          114.26,
          100.59,
          149.84,
          15.04,
          19.92,
          42.75,
          147.59,
          152.75,
          24.66,
          98.54,
          162.23,
          160.62,
          79.9,
          40,
          85.01,
          98.74,
          55.85,
          250.1,
          217.52,
          46.84,
          61.86,
          72.32,
          76.85,
          62.42,
          124.65,
          104.03,
          47.44,
          99.04,
          25.59,
          82.62,
          95.27,
          97.66,
          81.17,
          105.62,
          113.86,
          80.09,
          18.81,
          29.8,
          62.82
         ],
         "yaxis": "y"
        },
        {
         "customdata": [
          [
           "Advance Auto Parts"
          ],
          [
           "Amazon.com Inc"
          ],
          [
           "Aptiv Plc"
          ],
          [
           "AutoZone Inc"
          ],
          [
           "Best Buy Co. Inc."
          ],
          [
           "BorgWarner"
          ],
          [
           "Carmax Inc"
          ],
          [
           "Carnival Corp."
          ],
          [
           "CBS Corp."
          ],
          [
           "Charter Communications"
          ],
          [
           "Chipotle Mexican Grill"
          ],
          [
           "Comcast Corp."
          ],
          [
           "D. R. Horton"
          ],
          [
           "Darden Restaurants"
          ],
          [
           "Discovery Communications-A"
          ],
          [
           "Discovery Communications-C"
          ],
          [
           "Dish Network"
          ],
          [
           "Dollar General"
          ],
          [
           "Dollar Tree"
          ],
          [
           "Expedia Inc."
          ],
          [
           "Ford Motor"
          ],
          [
           "Gap Inc."
          ],
          [
           "Garmin Ltd."
          ],
          [
           "General Motors"
          ],
          [
           "Genuine Parts"
          ],
          [
           "Goodyear Tire & Rubber"
          ],
          [
           "Hanesbrands Inc"
          ],
          [
           "Harley-Davidson"
          ],
          [
           "Hasbro Inc."
          ],
          [
           "Hilton Worldwide Holdings Inc"
          ],
          [
           "Home Depot"
          ],
          [
           "Interpublic Group"
          ],
          [
           "Kohl's Corp."
          ],
          [
           "L Brands Inc."
          ],
          [
           "Leggett & Platt"
          ],
          [
           "Lennar Corp."
          ],
          [
           "LKQ Corporation"
          ],
          [
           "Lowe's Cos."
          ],
          [
           "Macy's Inc."
          ],
          [
           "Marriott Int'l."
          ],
          [
           "Mattel Inc."
          ],
          [
           "McDonald's Corp."
          ],
          [
           "MGM Resorts International"
          ],
          [
           "Michael Kors Holdings"
          ],
          [
           "Mohawk Industries"
          ],
          [
           "Newell Brands"
          ],
          [
           "News Corp. Class A"
          ],
          [
           "News Corp. Class B"
          ],
          [
           "Nike"
          ],
          [
           "Nordstrom"
          ],
          [
           "Norwegian Cruise Line"
          ],
          [
           "O'Reilly Automotive"
          ],
          [
           "Omnicom Group"
          ],
          [
           "Polo Ralph Lauren Corp."
          ],
          [
           "Priceline.com Inc"
          ],
          [
           "Pulte Homes Inc."
          ],
          [
           "PVH Corp."
          ],
          [
           "Ross Stores"
          ],
          [
           "Royal Caribbean Cruises Ltd"
          ],
          [
           "Scripps Networks Interactive Inc."
          ],
          [
           "Signet Jewelers"
          ],
          [
           "Snap-On Inc."
          ],
          [
           "Stanley Black & Decker"
          ],
          [
           "Starbucks Corp."
          ],
          [
           "Target Corp."
          ],
          [
           "The Walt Disney Company"
          ],
          [
           "Tiffany & Co."
          ],
          [
           "Time Warner Inc."
          ],
          [
           "TJX Companies Inc."
          ],
          [
           "Tractor Supply Company"
          ],
          [
           "TripAdvisor"
          ],
          [
           "Twenty-First Century Fox Class A"
          ],
          [
           "Twenty-First Century Fox Class B"
          ],
          [
           "Ulta Salon Cosmetics & Fragrance Inc"
          ],
          [
           "Under Armour Class A"
          ],
          [
           "Under Armour Class C"
          ],
          [
           "V.F. Corp."
          ],
          [
           "Viacom Inc."
          ],
          [
           "Whirlpool Corp."
          ],
          [
           "Wyndham Worldwide"
          ],
          [
           "Wynn Resorts Ltd"
          ],
          [
           "Yum! Brands Inc"
          ]
         ],
         "hovertemplate": "Sector=Consumer Discretionary<br>Market Cap=%{marker.size}<br>Price=%{y}<br>Name=%{customdata[0]}<extra></extra>",
         "legendgroup": "Consumer Discretionary",
         "marker": {
          "color": "#ab63fa",
          "size": [
           8123611867,
           685873374731,
           24906530300,
           19922021415,
           20831186176,
           11596117445,
           11827453706,
           49180044050,
           20431395736,
           86708878113,
           7685283970,
           186476996883,
           17390873686,
           11745595320,
           8763756733,
           8320262123,
           21032719056,
           26580644874,
           25151198417,
           19722178609,
           42414328338,
           12684517721,
           11840331607,
           61536606173,
           14554321748,
           8244568238,
           8006268615,
           8158949890,
           12732072001,
           26242415796,
           223378633329,
           8277363031,
           10570861198,
           13862042842,
           6034600480,
           14615967194,
           12469931896,
           82909678852,
           7541063495,
           50910130358,
           5843402350,
           132101623787,
           19633674337,
           10053919023,
           19897356456,
           14438346000,
           9356906461,
           9496735699,
           106776113744,
           8212509855,
           13191507318,
           21433781860,
           17377551986,
           8753430477,
           91817448863,
           8792572352,
           11478625926,
           29803566306,
           27418147452,
           11328642413,
           3034275549,
           9499107736,
           24496399600,
           76548976000,
           39816696539,
           157817273295,
           12810515320,
           74185800000,
           48181450881,
           8459271203,
           5700998508,
           44027094922,
           66135313503,
           13300000127,
           5856913571,
           5366628950,
           31797645904,
           10601008017,
           12177920000,
           11993835688,
           18225400525,
           27003303098
          ],
          "sizemode": "area",
          "sizeref": 2023770085.05,
          "symbol": "circle"
         },
         "mode": "markers",
         "name": "Consumer Discretionary",
         "orientation": "v",
         "showlegend": true,
         "type": "scatter",
         "x": [
          8123611867,
          685873374731,
          24906530300,
          19922021415,
          20831186176,
          11596117445,
          11827453706,
          49180044050,
          20431395736,
          86708878113,
          7685283970,
          186476996883,
          17390873686,
          11745595320,
          8763756733,
          8320262123,
          21032719056,
          26580644874,
          25151198417,
          19722178609,
          42414328338,
          12684517721,
          11840331607,
          61536606173,
          14554321748,
          8244568238,
          8006268615,
          8158949890,
          12732072001,
          26242415796,
          223378633329,
          8277363031,
          10570861198,
          13862042842,
          6034600480,
          14615967194,
          12469931896,
          82909678852,
          7541063495,
          50910130358,
          5843402350,
          132101623787,
          19633674337,
          10053919023,
          19897356456,
          14438346000,
          9356906461,
          9496735699,
          106776113744,
          8212509855,
          13191507318,
          21433781860,
          17377551986,
          8753430477,
          91817448863,
          8792572352,
          11478625926,
          29803566306,
          27418147452,
          11328642413,
          3034275549,
          9499107736,
          24496399600,
          76548976000,
          39816696539,
          157817273295,
          12810515320,
          74185800000,
          48181450881,
          8459271203,
          5700998508,
          44027094922,
          66135313503,
          13300000127,
          5856913571,
          5366628950,
          31797645904,
          10601008017,
          12177920000,
          11993835688,
          18225400525,
          27003303098
         ],
         "xaxis": "x",
         "y": [
          109.63,
          1350.5,
          89.27,
          718.57,
          68.79,
          51.94,
          64.34,
          66.76,
          51.8,
          348.65,
          266.01,
          38.19,
          44.55,
          91.33,
          22.87,
          21.58,
          43.77,
          95.1,
          101.58,
          123.03,
          10.43,
          31.17,
          61.13,
          40.75,
          96.31,
          30.75,
          19.57,
          47.54,
          96.48,
          78.66,
          181.22,
          21.34,
          60.34,
          47.77,
          43.99,
          59.11,
          38.86,
          95.01,
          24,
          133.88,
          16,
          158.97,
          33.5,
          60.03,
          256.57,
          27.91,
          15.65,
          15.85,
          62.49,
          47.23,
          56.01,
          252.22,
          75.91,
          101.32,
          1806.06,
          28.67,
          142.68,
          75.06,
          122.45,
          86.46,
          49.38,
          156.72,
          152.86,
          53.77,
          71.11,
          101.35,
          99.62,
          93.02,
          74.36,
          65.94,
          40.05,
          34.56,
          34.09,
          209.09,
          13.14,
          11.95,
          78.75,
          32.71,
          164.95,
          113.56,
          169.28,
          76.3
         ],
         "yaxis": "y"
        },
        {
         "customdata": [
          [
           "AES Corp"
          ],
          [
           "Alliant Energy Corp"
          ],
          [
           "Ameren Corp"
          ],
          [
           "American Electric Power"
          ],
          [
           "American Water Works Company Inc"
          ],
          [
           "CenterPoint Energy"
          ],
          [
           "CMS Energy"
          ],
          [
           "Consolidated Edison"
          ],
          [
           "Dominion Energy"
          ],
          [
           "DTE Energy Co."
          ],
          [
           "Duke Energy"
          ],
          [
           "Edison Int'l"
          ],
          [
           "Entergy Corp."
          ],
          [
           "Eversource Energy"
          ],
          [
           "Exelon Corp."
          ],
          [
           "FirstEnergy Corp"
          ],
          [
           "NextEra Energy"
          ],
          [
           "NiSource Inc."
          ],
          [
           "NRG Energy"
          ],
          [
           "PG&E Corp."
          ],
          [
           "Pinnacle West Capital"
          ],
          [
           "PPL Corp."
          ],
          [
           "Public Serv. Enterprise Inc."
          ],
          [
           "SCANA Corp"
          ],
          [
           "Sempra Energy"
          ],
          [
           "Southern Co."
          ],
          [
           "Wec Energy Group Inc"
          ],
          [
           "Xcel Energy Inc"
          ]
         ],
         "hovertemplate": "Sector=Utilities<br>Market Cap=%{marker.size}<br>Price=%{y}<br>Name=%{customdata[0]}<extra></extra>",
         "legendgroup": "Utilities",
         "marker": {
          "color": "#FFA15A",
          "size": [
           6920851212,
           8670163500,
           12905744906,
           31701916517,
           13906146184,
           11362043297,
           11873960824,
           23335777662,
           47543571860,
           17808073691,
           52078185682,
           19447670886,
           13116894887,
           18027633617,
           34734816899,
           13706075072,
           69661177770,
           7776566371,
           8030036023,
           20309412381,
           8397609889,
           20839814845,
           24138050331,
           5229448882,
           26163862235,
           43497224128,
           18890296993,
           21559611927
          ],
          "sizemode": "area",
          "sizeref": 2023770085.05,
          "symbol": "circle"
         },
         "mode": "markers",
         "name": "Utilities",
         "orientation": "v",
         "showlegend": true,
         "type": "scatter",
         "x": [
          6920851212,
          8670163500,
          12905744906,
          31701916517,
          13906146184,
          11362043297,
          11873960824,
          23335777662,
          47543571860,
          17808073691,
          52078185682,
          19447670886,
          13116894887,
          18027633617,
          34734816899,
          13706075072,
          69661177770,
          7776566371,
          8030036023,
          20309412381,
          8397609889,
          20839814845,
          24138050331,
          5229448882,
          26163862235,
          43497224128,
          18890296993,
          21559611927
         ],
         "xaxis": "x",
         "y": [
          10.06,
          37.14,
          52.59,
          63.38,
          76.06,
          25.85,
          41.77,
          74.73,
          73.31,
          98.49,
          74.32,
          58.07,
          72.02,
          56.11,
          35.98,
          30.64,
          145.29,
          22.51,
          24,
          38.24,
          74.34,
          29.52,
          46.73,
          35.6,
          103.36,
          43.4,
          59.5,
          42.44
         ],
         "yaxis": "y"
        },
        {
         "customdata": [
          [
           "Affiliated Managers Group Inc"
          ],
          [
           "AFLAC Inc"
          ],
          [
           "Allstate Corp"
          ],
          [
           "American Express Co"
          ],
          [
           "American International Group, Inc."
          ],
          [
           "Ameriprise Financial"
          ],
          [
           "Aon plc"
          ],
          [
           "Arthur J. Gallagher & Co."
          ],
          [
           "Assurant Inc"
          ],
          [
           "Bank of America Corp"
          ],
          [
           "BB&T Corporation"
          ],
          [
           "Berkshire Hathaway"
          ],
          [
           "BlackRock"
          ],
          [
           "Block H&R"
          ],
          [
           "Brighthouse Financial Inc"
          ],
          [
           "Capital One Financial"
          ],
          [
           "CBOE Holdings"
          ],
          [
           "Charles Schwab Corporation"
          ],
          [
           "Chubb Limited"
          ],
          [
           "Cincinnati Financial"
          ],
          [
           "Citigroup Inc."
          ],
          [
           "Citizens Financial Group"
          ],
          [
           "CME Group Inc."
          ],
          [
           "Comerica Inc."
          ],
          [
           "Discover Financial Services"
          ],
          [
           "E*Trade"
          ],
          [
           "Everest Re Group Ltd."
          ],
          [
           "Fifth Third Bancorp"
          ],
          [
           "Franklin Resources"
          ],
          [
           "Goldman Sachs Group"
          ],
          [
           "Hartford Financial Svc.Gp."
          ],
          [
           "Huntington Bancshares"
          ],
          [
           "Intercontinental Exchange"
          ],
          [
           "Invesco Ltd."
          ],
          [
           "JPMorgan Chase & Co."
          ],
          [
           "KeyCorp"
          ],
          [
           "Leucadia National Corp."
          ],
          [
           "Lincoln National"
          ],
          [
           "Loews Corp."
          ],
          [
           "M&T Bank Corp."
          ],
          [
           "Marsh & McLennan"
          ],
          [
           "MetLife Inc."
          ],
          [
           "Moody's Corp"
          ],
          [
           "Morgan Stanley"
          ],
          [
           "Nasdaq, Inc."
          ],
          [
           "Navient"
          ],
          [
           "Northern Trust Corp."
          ],
          [
           "People's United Financial"
          ],
          [
           "PNC Financial Services"
          ],
          [
           "Principal Financial Group"
          ],
          [
           "Progressive Corp."
          ],
          [
           "Prudential Financial"
          ],
          [
           "Raymond James Financial Inc."
          ],
          [
           "Regions Financial Corp."
          ],
          [
           "S&P Global, Inc."
          ],
          [
           "State Street Corp."
          ],
          [
           "SunTrust Banks"
          ],
          [
           "Synchrony Financial"
          ],
          [
           "T. Rowe Price Group"
          ],
          [
           "The Bank of New York Mellon Corp."
          ],
          [
           "The Travelers Companies Inc."
          ],
          [
           "Torchmark Corp."
          ],
          [
           "U.S. Bancorp"
          ],
          [
           "Unum Group"
          ],
          [
           "Wells Fargo"
          ],
          [
           "Willis Towers Watson"
          ],
          [
           "XL Capital"
          ],
          [
           "Zions Bancorp"
          ]
         ],
         "hovertemplate": "Sector=Financials<br>Market Cap=%{marker.size}<br>Price=%{y}<br>Name=%{customdata[0]}<extra></extra>",
         "legendgroup": "Financials",
         "marker": {
          "color": "#19d3f3",
          "size": [
           10442174371,
           33422948000,
           34759468905,
           80410990000,
           54360073164,
           23472126000,
           35123123422,
           11968488290,
           4653993594,
           321478200969,
           42087562920,
           261401203633,
           85907759858,
           5381433872,
           7066613254,
           47637260000,
           12998295607,
           69750188843,
           68424670566,
           11916533018,
           192709302000,
           22008050974,
           54423298745,
           16274969256,
           27433540000,
           13754977266,
           10131892523,
           22437653700,
           21759187973,
           96978500251,
           19926305632,
           16766497291,
           41373051167,
           13620847614,
           386613611000,
           22589744920,
           8910389431,
           17123031000,
           16111166935,
           27840827434,
           41819440000,
           48679364276,
           30189978000,
           97535400000,
           12844304115,
           3692691330,
           22908130223,
           6527616000,
           73315000000,
           18457199721,
           31062780000,
           47136080000,
           13216271700,
           21500640000,
           46585950000,
           38059113300,
           32498948310,
           28893750000,
           25810865035,
           56083904906,
           38903131815,
           9614412169,
           90940115897,
           11256432318,
           281463620775,
           20780269334,
           10753423590,
           10670678640
          ],
          "sizemode": "area",
          "sizeref": 2023770085.05,
          "symbol": "circle"
         },
         "mode": "markers",
         "name": "Financials",
         "orientation": "v",
         "showlegend": true,
         "type": "scatter",
         "x": [
          10442174371,
          33422948000,
          34759468905,
          80410990000,
          54360073164,
          23472126000,
          35123123422,
          11968488290,
          4653993594,
          321478200969,
          42087562920,
          261401203633,
          85907759858,
          5381433872,
          7066613254,
          47637260000,
          12998295607,
          69750188843,
          68424670566,
          11916533018,
          192709302000,
          22008050974,
          54423298745,
          16274969256,
          27433540000,
          13754977266,
          10131892523,
          22437653700,
          21759187973,
          96978500251,
          19926305632,
          16766497291,
          41373051167,
          13620847614,
          386613611000,
          22589744920,
          8910389431,
          17123031000,
          16111166935,
          27840827434,
          41819440000,
          48679364276,
          30189978000,
          97535400000,
          12844304115,
          3692691330,
          22908130223,
          6527616000,
          73315000000,
          18457199721,
          31062780000,
          47136080000,
          13216271700,
          21500640000,
          46585950000,
          38059113300,
          32498948310,
          28893750000,
          25810865035,
          56083904906,
          38903131815,
          9614412169,
          90940115897,
          11256432318,
          281463620775,
          20780269334,
          10753423590,
          10670678640
         ],
         "xaxis": "x",
         "y": [
          179.11,
          83.25,
          90.06,
          88.34,
          58.28,
          152.5,
          136.05,
          64.4,
          85.16,
          29.74,
          51.07,
          191.42,
          509.38,
          25.19,
          55.44,
          91.8,
          111.15,
          48.9,
          140.39,
          70.34,
          71.87,
          42.19,
          153.04,
          89.18,
          72.4,
          48.48,
          241.06,
          31.1,
          38,
          246.35,
          53.34,
          15.1,
          67,
          31.92,
          107.88,
          20.08,
          23.86,
          73.86,
          46.05,
          178.35,
          79.31,
          44.28,
          152.14,
          51.79,
          75.21,
          13.38,
          96.2,
          18.56,
          149.38,
          60.38,
          51.07,
          103.38,
          86.06,
          17.9,
          173.31,
          98.54,
          65.8,
          34.98,
          101.99,
          53.29,
          135.01,
          80.52,
          52.65,
          47.87,
          55.4,
          152.36,
          41.26,
          50.71
         ],
         "yaxis": "y"
        },
        {
         "customdata": [
          [
           "Air Products & Chemicals Inc"
          ],
          [
           "Albemarle Corp"
          ],
          [
           "Avery Dennison Corp"
          ],
          [
           "Ball Corp"
          ],
          [
           "CF Industries Holdings Inc"
          ],
          [
           "DowDuPont"
          ],
          [
           "Eastman Chemical"
          ],
          [
           "Ecolab Inc."
          ],
          [
           "FMC Corporation"
          ],
          [
           "Freeport-McMoRan Inc."
          ],
          [
           "International Paper"
          ],
          [
           "Intl Flavors & Fragrances"
          ],
          [
           "LyondellBasell"
          ],
          [
           "Martin Marietta Materials"
          ],
          [
           "Monsanto Co."
          ],
          [
           "Newmont Mining Corporation"
          ],
          [
           "Nucor Corp."
          ],
          [
           "Packaging Corporation of America"
          ],
          [
           "PPG Industries"
          ],
          [
           "Praxair Inc."
          ],
          [
           "Sealed Air"
          ],
          [
           "Sherwin-Williams"
          ],
          [
           "The Mosaic Company"
          ],
          [
           "Vulcan Materials"
          ],
          [
           "WestRock Company"
          ]
         ],
         "hovertemplate": "Sector=Materials<br>Market Cap=%{marker.size}<br>Price=%{y}<br>Name=%{customdata[0]}<extra></extra>",
         "legendgroup": "Materials",
         "marker": {
          "color": "#FF6692",
          "size": [
           34638387128,
           11782151266,
           10104814319,
           13767688518,
           9209106695,
           165203312427,
           14226830813,
           38460272282,
           11273961835,
           25853969330,
           24465996443,
           11270040447,
           43556650000,
           13756812736,
           53076824328,
           19749449484,
           20003317128,
           11051273948,
           29043337549,
           42948664203,
           8001938397,
           37730994828,
           9726962131,
           16964162228,
           16433340688
          ],
          "sizemode": "area",
          "sizeref": 2023770085.05,
          "symbol": "circle"
         },
         "mode": "markers",
         "name": "Materials",
         "orientation": "v",
         "showlegend": true,
         "type": "scatter",
         "x": [
          34638387128,
          11782151266,
          10104814319,
          13767688518,
          9209106695,
          165203312427,
          14226830813,
          38460272282,
          11273961835,
          25853969330,
          24465996443,
          11270040447,
          43556650000,
          13756812736,
          53076824328,
          19749449484,
          20003317128,
          11051273948,
          29043337549,
          42948664203,
          8001938397,
          37730994828,
          9726962131,
          16964162228,
          16433340688
         ],
         "xaxis": "x",
         "y": [
          152.8,
          105.18,
          110.77,
          38.44,
          37.46,
          68.21,
          93.57,
          127.76,
          80.87,
          17.16,
          56.05,
          138,
          105.79,
          208.42,
          119.08,
          36.61,
          60.38,
          111.95,
          110.3,
          144.07,
          42.62,
          387.65,
          24.13,
          121.47,
          60.93
         ],
         "yaxis": "y"
        },
        {
         "customdata": [
          [
           "Alexandria Real Estate Equities Inc"
          ],
          [
           "American Tower Corp A"
          ],
          [
           "Apartment Investment & Management"
          ],
          [
           "AvalonBay Communities, Inc."
          ],
          [
           "Boston Properties"
          ],
          [
           "CBRE Group"
          ],
          [
           "Crown Castle International Corp."
          ],
          [
           "Digital Realty Trust Inc"
          ],
          [
           "Duke Realty Corp"
          ],
          [
           "Equinix"
          ],
          [
           "Equity Residential"
          ],
          [
           "Essex Property Trust, Inc."
          ],
          [
           "Extra Space Storage"
          ],
          [
           "Federal Realty Investment Trust"
          ],
          [
           "General Growth Properties Inc."
          ],
          [
           "HCP Inc."
          ],
          [
           "Host Hotels & Resorts"
          ],
          [
           "Iron Mountain Incorporated"
          ],
          [
           "Kimco Realty"
          ],
          [
           "Macerich"
          ],
          [
           "Mid-America Apartments"
          ],
          [
           "Prologis"
          ],
          [
           "Public Storage"
          ],
          [
           "Realty Income Corporation"
          ],
          [
           "Regency Centers Corporation"
          ],
          [
           "SBA Communications"
          ],
          [
           "Simon Property Group Inc"
          ],
          [
           "SL Green Realty"
          ],
          [
           "UDR Inc"
          ],
          [
           "Ventas Inc"
          ],
          [
           "Vornado Realty Trust"
          ],
          [
           "Welltower Inc."
          ],
          [
           "Weyerhaeuser Corp."
          ]
         ],
         "hovertemplate": "Sector=Real Estate<br>Market Cap=%{marker.size}<br>Price=%{y}<br>Name=%{customdata[0]}<extra></extra>",
         "legendgroup": "Real Estate",
         "marker": {
          "color": "#B6E880",
          "size": [
           12043374429,
           59213892640,
           6156884142,
           21856547430,
           17799878487,
           14440591731,
           44183023189,
           21400952517,
           9035293365,
           33333813618,
           20925508143,
           14383525286,
           10133547517,
           8077368506,
           21018887283,
           10967755538,
           14394715334,
           9410249279,
           6180487499,
           8473119166,
           9992628990,
           31953288000,
           32258539942,
           13784942453,
           9858367494,
           19572031314,
           48139839531,
           8617714345,
           9050154422,
           18865999082,
           12778779911,
           20943679019,
           26070297960
          ],
          "sizemode": "area",
          "sizeref": 2023770085.05,
          "symbol": "circle"
         },
         "mode": "markers",
         "name": "Real Estate",
         "orientation": "v",
         "showlegend": true,
         "type": "scatter",
         "x": [
          12043374429,
          59213892640,
          6156884142,
          21856547430,
          17799878487,
          14440591731,
          44183023189,
          21400952517,
          9035293365,
          33333813618,
          20925508143,
          14383525286,
          10133547517,
          8077368506,
          21018887283,
          10967755538,
          14394715334,
          9410249279,
          6180487499,
          8473119166,
          9992628990,
          31953288000,
          32258539942,
          13784942453,
          9858367494,
          19572031314,
          48139839531,
          8617714345,
          9050154422,
          18865999082,
          12778779911,
          20943679019,
          26070297960
         ],
         "xaxis": "x",
         "y": [
          114.58,
          133.57,
          38.21,
          154.94,
          112.09,
          41.92,
          103.81,
          98.96,
          24.52,
          409.98,
          55.26,
          218.28,
          77.56,
          108.11,
          21.62,
          22.64,
          18.75,
          32.07,
          14.01,
          58.36,
          85.39,
          58.33,
          180.49,
          47.56,
          55.58,
          159.85,
          152.18,
          90.61,
          32.92,
          50.92,
          66.18,
          54.67,
          33.6
         ],
         "yaxis": "y"
        },
        {
         "customdata": [
          [
           "Altria Group Inc"
          ],
          [
           "Archer-Daniels-Midland Co"
          ],
          [
           "Brown-Forman Corp."
          ],
          [
           "Campbell Soup"
          ],
          [
           "Church & Dwight"
          ],
          [
           "Coca-Cola Company (The)"
          ],
          [
           "Colgate-Palmolive"
          ],
          [
           "Conagra Brands"
          ],
          [
           "Constellation Brands"
          ],
          [
           "Costco Wholesale Corp."
          ],
          [
           "Coty, Inc"
          ],
          [
           "CVS Health"
          ],
          [
           "Dr Pepper Snapple Group"
          ],
          [
           "Estee Lauder Cos."
          ],
          [
           "General Mills"
          ],
          [
           "Hormel Foods Corp."
          ],
          [
           "JM Smucker"
          ],
          [
           "Kellogg Co."
          ],
          [
           "Kimberly-Clark"
          ],
          [
           "Kraft Heinz Co"
          ],
          [
           "Kroger Co."
          ],
          [
           "McCormick & Co."
          ],
          [
           "Molson Coors Brewing Company"
          ],
          [
           "Mondelez International"
          ],
          [
           "Monster Beverage"
          ],
          [
           "Philip Morris International"
          ],
          [
           "Procter & Gamble"
          ],
          [
           "Sysco Corp."
          ],
          [
           "The Clorox Company"
          ],
          [
           "The Hershey Company"
          ],
          [
           "Tyson Foods"
          ],
          [
           "Wal-Mart Stores"
          ],
          [
           "Walgreens Boots Alliance"
          ]
         ],
         "hovertemplate": "Sector=Consumer Staples<br>Market Cap=%{marker.size}<br>Price=%{y}<br>Name=%{customdata[0]}<extra></extra>",
         "legendgroup": "Consumer Staples",
         "marker": {
          "color": "#FF97FF",
          "size": [
           126985101434,
           23594770663,
           5498033502,
           13467193376,
           11838963451,
           189855335601,
           61616643498,
           14379717835,
           41697453163,
           80439804508,
           13101112504,
           75323141722,
           21209783858,
           49543264457,
           31098243069,
           17338613096,
           13612394896,
           22182794875,
           39449596000,
           89618309338,
           25471355847,
           13459353253,
           12396862128,
           65827817742,
           36403831015,
           153580671803,
           206318943299,
           30445320778,
           16540418002,
           20867272020,
           26957526800,
           304680931618,
           70862541911
          ],
          "sizemode": "area",
          "sizeref": 2023770085.05,
          "symbol": "circle"
         },
         "mode": "markers",
         "name": "Consumer Staples",
         "orientation": "v",
         "showlegend": true,
         "type": "scatter",
         "x": [
          126985101434,
          23594770663,
          5498033502,
          13467193376,
          11838963451,
          189855335601,
          61616643498,
          14379717835,
          41697453163,
          80439804508,
          13101112504,
          75323141722,
          21209783858,
          49543264457,
          31098243069,
          17338613096,
          13612394896,
          22182794875,
          39449596000,
          89618309338,
          25471355847,
          13459353253,
          12396862128,
          65827817742,
          36403831015,
          153580671803,
          206318943299,
          30445320778,
          16540418002,
          20867272020,
          26957526800,
          304680931618,
          70862541911
         ],
         "xaxis": "x",
         "y": [
          64.05,
          41.35,
          63.33,
          44.83,
          47.38,
          43.1,
          68.95,
          35.49,
          208.73,
          178.61,
          19.96,
          70.55,
          116.93,
          131.46,
          53.99,
          32.21,
          118.37,
          65.98,
          111.69,
          71.58,
          27.57,
          101.36,
          74.51,
          42.68,
          61.99,
          100.39,
          80.22,
          57,
          127.76,
          97.65,
          73.92,
          100.02,
          68.22
         ],
         "yaxis": "y"
        },
        {
         "customdata": [
          [
           "Anadarko Petroleum Corp"
          ],
          [
           "Andeavor"
          ],
          [
           "Apache Corporation"
          ],
          [
           "Baker Hughes, a GE Company"
          ],
          [
           "Cabot Oil & Gas"
          ],
          [
           "Chesapeake Energy"
          ],
          [
           "Chevron Corp."
          ],
          [
           "Cimarex Energy"
          ],
          [
           "Concho Resources"
          ],
          [
           "ConocoPhillips"
          ],
          [
           "Devon Energy Corp."
          ],
          [
           "EOG Resources"
          ],
          [
           "EQT Corporation"
          ],
          [
           "Exxon Mobil Corp."
          ],
          [
           "Halliburton Co."
          ],
          [
           "Helmerich & Payne"
          ],
          [
           "Hess Corporation"
          ],
          [
           "Kinder Morgan"
          ],
          [
           "Marathon Petroleum"
          ],
          [
           "National Oilwell Varco Inc."
          ],
          [
           "Newfield Exploration Co"
          ],
          [
           "Noble Energy Inc"
          ],
          [
           "ONEOK"
          ],
          [
           "Phillips 66"
          ],
          [
           "Pioneer Natural Resources"
          ],
          [
           "Range Resources Corp."
          ],
          [
           "Schlumberger Ltd."
          ],
          [
           "TechnipFMC"
          ],
          [
           "Valero Energy"
          ],
          [
           "Williams Cos."
          ]
         ],
         "hovertemplate": "Sector=Energy<br>Market Cap=%{marker.size}<br>Price=%{y}<br>Name=%{customdata[0]}<extra></extra>",
         "legendgroup": "Energy",
         "marker": {
          "color": "#FECB52",
          "size": [
           32129091747,
           15696449735,
           15066280977,
           32995712852,
           10808821635,
           2626102121,
           218978820159,
           10089082025,
           22021882339,
           65482462410,
           19317380000,
           61164030149,
           12638828950,
           326148660000,
           43356557470,
           7345243806,
           14016129999,
           38612712234,
           31633740000,
           12940096785,
           5695123080,
           13177325251,
           21988472489,
           47996220000,
           29983119693,
           3255587970,
           96529311126,
           14163064455,
           39312309113,
           24802396470
          ],
          "sizemode": "area",
          "sizeref": 2023770085.05,
          "symbol": "circle"
         },
         "mode": "markers",
         "name": "Energy",
         "orientation": "v",
         "showlegend": true,
         "type": "scatter",
         "x": [
          32129091747,
          15696449735,
          15066280977,
          32995712852,
          10808821635,
          2626102121,
          218978820159,
          10089082025,
          22021882339,
          65482462410,
          19317380000,
          61164030149,
          12638828950,
          326148660000,
          43356557470,
          7345243806,
          14016129999,
          38612712234,
          31633740000,
          12940096785,
          5695123080,
          13177325251,
          21988472489,
          47996220000,
          29983119693,
          3255587970,
          96529311126,
          14163064455,
          39312309113,
          24802396470
         ],
         "xaxis": "x",
         "y": [
          56.2,
          96.9,
          37.73,
          27.5,
          23.01,
          2.82,
          112.3,
          100.19,
          140.09,
          53.24,
          34.94,
          101.04,
          46.25,
          76.07,
          47.41,
          64.87,
          43,
          16.8,
          62.79,
          32.64,
          26.38,
          25.43,
          54.4,
          92.44,
          169.16,
          12.82,
          67.4,
          29.1,
          86.77,
          28.56
         ],
         "yaxis": "y"
        },
        {
         "customdata": [
          [
           "AT&T Inc"
          ],
          [
           "CenturyLink Inc"
          ],
          [
           "Verizon Communications"
          ]
         ],
         "hovertemplate": "Sector=Telecommunication Services<br>Market Cap=%{marker.size}<br>Price=%{y}<br>Name=%{customdata[0]}<extra></extra>",
         "legendgroup": "Telecommunication Services",
         "marker": {
          "color": "#636efa",
          "size": [
           226713270000,
           18237196861,
           208092277044
          ],
          "sizemode": "area",
          "sizeref": 2023770085.05,
          "symbol": "circle"
         },
         "mode": "markers",
         "name": "Telecommunication Services",
         "orientation": "v",
         "showlegend": true,
         "type": "scatter",
         "x": [
          226713270000,
          18237196861,
          208092277044
         ],
         "xaxis": "x",
         "y": [
          35.57,
          16.2,
          49.04
         ],
         "yaxis": "y"
        }
       ],
       "layout": {
        "legend": {
         "itemsizing": "constant",
         "title": {
          "text": "Sector"
         },
         "tracegroupgap": 0
        },
        "template": {
         "data": {
          "bar": [
           {
            "error_x": {
             "color": "#2a3f5f"
            },
            "error_y": {
             "color": "#2a3f5f"
            },
            "marker": {
             "line": {
              "color": "#E5ECF6",
              "width": 0.5
             },
             "pattern": {
              "fillmode": "overlay",
              "size": 10,
              "solidity": 0.2
             }
            },
            "type": "bar"
           }
          ],
          "barpolar": [
           {
            "marker": {
             "line": {
              "color": "#E5ECF6",
              "width": 0.5
             },
             "pattern": {
              "fillmode": "overlay",
              "size": 10,
              "solidity": 0.2
             }
            },
            "type": "barpolar"
           }
          ],
          "carpet": [
           {
            "aaxis": {
             "endlinecolor": "#2a3f5f",
             "gridcolor": "white",
             "linecolor": "white",
             "minorgridcolor": "white",
             "startlinecolor": "#2a3f5f"
            },
            "baxis": {
             "endlinecolor": "#2a3f5f",
             "gridcolor": "white",
             "linecolor": "white",
             "minorgridcolor": "white",
             "startlinecolor": "#2a3f5f"
            },
            "type": "carpet"
           }
          ],
          "choropleth": [
           {
            "colorbar": {
             "outlinewidth": 0,
             "ticks": ""
            },
            "type": "choropleth"
           }
          ],
          "contour": [
           {
            "colorbar": {
             "outlinewidth": 0,
             "ticks": ""
            },
            "colorscale": [
             [
              0,
              "#0d0887"
             ],
             [
              0.1111111111111111,
              "#46039f"
             ],
             [
              0.2222222222222222,
              "#7201a8"
             ],
             [
              0.3333333333333333,
              "#9c179e"
             ],
             [
              0.4444444444444444,
              "#bd3786"
             ],
             [
              0.5555555555555556,
              "#d8576b"
             ],
             [
              0.6666666666666666,
              "#ed7953"
             ],
             [
              0.7777777777777778,
              "#fb9f3a"
             ],
             [
              0.8888888888888888,
              "#fdca26"
             ],
             [
              1,
              "#f0f921"
             ]
            ],
            "type": "contour"
           }
          ],
          "contourcarpet": [
           {
            "colorbar": {
             "outlinewidth": 0,
             "ticks": ""
            },
            "type": "contourcarpet"
           }
          ],
          "heatmap": [
           {
            "colorbar": {
             "outlinewidth": 0,
             "ticks": ""
            },
            "colorscale": [
             [
              0,
              "#0d0887"
             ],
             [
              0.1111111111111111,
              "#46039f"
             ],
             [
              0.2222222222222222,
              "#7201a8"
             ],
             [
              0.3333333333333333,
              "#9c179e"
             ],
             [
              0.4444444444444444,
              "#bd3786"
             ],
             [
              0.5555555555555556,
              "#d8576b"
             ],
             [
              0.6666666666666666,
              "#ed7953"
             ],
             [
              0.7777777777777778,
              "#fb9f3a"
             ],
             [
              0.8888888888888888,
              "#fdca26"
             ],
             [
              1,
              "#f0f921"
             ]
            ],
            "type": "heatmap"
           }
          ],
          "heatmapgl": [
           {
            "colorbar": {
             "outlinewidth": 0,
             "ticks": ""
            },
            "colorscale": [
             [
              0,
              "#0d0887"
             ],
             [
              0.1111111111111111,
              "#46039f"
             ],
             [
              0.2222222222222222,
              "#7201a8"
             ],
             [
              0.3333333333333333,
              "#9c179e"
             ],
             [
              0.4444444444444444,
              "#bd3786"
             ],
             [
              0.5555555555555556,
              "#d8576b"
             ],
             [
              0.6666666666666666,
              "#ed7953"
             ],
             [
              0.7777777777777778,
              "#fb9f3a"
             ],
             [
              0.8888888888888888,
              "#fdca26"
             ],
             [
              1,
              "#f0f921"
             ]
            ],
            "type": "heatmapgl"
           }
          ],
          "histogram": [
           {
            "marker": {
             "pattern": {
              "fillmode": "overlay",
              "size": 10,
              "solidity": 0.2
             }
            },
            "type": "histogram"
           }
          ],
          "histogram2d": [
           {
            "colorbar": {
             "outlinewidth": 0,
             "ticks": ""
            },
            "colorscale": [
             [
              0,
              "#0d0887"
             ],
             [
              0.1111111111111111,
              "#46039f"
             ],
             [
              0.2222222222222222,
              "#7201a8"
             ],
             [
              0.3333333333333333,
              "#9c179e"
             ],
             [
              0.4444444444444444,
              "#bd3786"
             ],
             [
              0.5555555555555556,
              "#d8576b"
             ],
             [
              0.6666666666666666,
              "#ed7953"
             ],
             [
              0.7777777777777778,
              "#fb9f3a"
             ],
             [
              0.8888888888888888,
              "#fdca26"
             ],
             [
              1,
              "#f0f921"
             ]
            ],
            "type": "histogram2d"
           }
          ],
          "histogram2dcontour": [
           {
            "colorbar": {
             "outlinewidth": 0,
             "ticks": ""
            },
            "colorscale": [
             [
              0,
              "#0d0887"
             ],
             [
              0.1111111111111111,
              "#46039f"
             ],
             [
              0.2222222222222222,
              "#7201a8"
             ],
             [
              0.3333333333333333,
              "#9c179e"
             ],
             [
              0.4444444444444444,
              "#bd3786"
             ],
             [
              0.5555555555555556,
              "#d8576b"
             ],
             [
              0.6666666666666666,
              "#ed7953"
             ],
             [
              0.7777777777777778,
              "#fb9f3a"
             ],
             [
              0.8888888888888888,
              "#fdca26"
             ],
             [
              1,
              "#f0f921"
             ]
            ],
            "type": "histogram2dcontour"
           }
          ],
          "mesh3d": [
           {
            "colorbar": {
             "outlinewidth": 0,
             "ticks": ""
            },
            "type": "mesh3d"
           }
          ],
          "parcoords": [
           {
            "line": {
             "colorbar": {
              "outlinewidth": 0,
              "ticks": ""
             }
            },
            "type": "parcoords"
           }
          ],
          "pie": [
           {
            "automargin": true,
            "type": "pie"
           }
          ],
          "scatter": [
           {
            "fillpattern": {
             "fillmode": "overlay",
             "size": 10,
             "solidity": 0.2
            },
            "type": "scatter"
           }
          ],
          "scatter3d": [
           {
            "line": {
             "colorbar": {
              "outlinewidth": 0,
              "ticks": ""
             }
            },
            "marker": {
             "colorbar": {
              "outlinewidth": 0,
              "ticks": ""
             }
            },
            "type": "scatter3d"
           }
          ],
          "scattercarpet": [
           {
            "marker": {
             "colorbar": {
              "outlinewidth": 0,
              "ticks": ""
             }
            },
            "type": "scattercarpet"
           }
          ],
          "scattergeo": [
           {
            "marker": {
             "colorbar": {
              "outlinewidth": 0,
              "ticks": ""
             }
            },
            "type": "scattergeo"
           }
          ],
          "scattergl": [
           {
            "marker": {
             "colorbar": {
              "outlinewidth": 0,
              "ticks": ""
             }
            },
            "type": "scattergl"
           }
          ],
          "scattermapbox": [
           {
            "marker": {
             "colorbar": {
              "outlinewidth": 0,
              "ticks": ""
             }
            },
            "type": "scattermapbox"
           }
          ],
          "scatterpolar": [
           {
            "marker": {
             "colorbar": {
              "outlinewidth": 0,
              "ticks": ""
             }
            },
            "type": "scatterpolar"
           }
          ],
          "scatterpolargl": [
           {
            "marker": {
             "colorbar": {
              "outlinewidth": 0,
              "ticks": ""
             }
            },
            "type": "scatterpolargl"
           }
          ],
          "scatterternary": [
           {
            "marker": {
             "colorbar": {
              "outlinewidth": 0,
              "ticks": ""
             }
            },
            "type": "scatterternary"
           }
          ],
          "surface": [
           {
            "colorbar": {
             "outlinewidth": 0,
             "ticks": ""
            },
            "colorscale": [
             [
              0,
              "#0d0887"
             ],
             [
              0.1111111111111111,
              "#46039f"
             ],
             [
              0.2222222222222222,
              "#7201a8"
             ],
             [
              0.3333333333333333,
              "#9c179e"
             ],
             [
              0.4444444444444444,
              "#bd3786"
             ],
             [
              0.5555555555555556,
              "#d8576b"
             ],
             [
              0.6666666666666666,
              "#ed7953"
             ],
             [
              0.7777777777777778,
              "#fb9f3a"
             ],
             [
              0.8888888888888888,
              "#fdca26"
             ],
             [
              1,
              "#f0f921"
             ]
            ],
            "type": "surface"
           }
          ],
          "table": [
           {
            "cells": {
             "fill": {
              "color": "#EBF0F8"
             },
             "line": {
              "color": "white"
             }
            },
            "header": {
             "fill": {
              "color": "#C8D4E3"
             },
             "line": {
              "color": "white"
             }
            },
            "type": "table"
           }
          ]
         },
         "layout": {
          "annotationdefaults": {
           "arrowcolor": "#2a3f5f",
           "arrowhead": 0,
           "arrowwidth": 1
          },
          "autotypenumbers": "strict",
          "coloraxis": {
           "colorbar": {
            "outlinewidth": 0,
            "ticks": ""
           }
          },
          "colorscale": {
           "diverging": [
            [
             0,
             "#8e0152"
            ],
            [
             0.1,
             "#c51b7d"
            ],
            [
             0.2,
             "#de77ae"
            ],
            [
             0.3,
             "#f1b6da"
            ],
            [
             0.4,
             "#fde0ef"
            ],
            [
             0.5,
             "#f7f7f7"
            ],
            [
             0.6,
             "#e6f5d0"
            ],
            [
             0.7,
             "#b8e186"
            ],
            [
             0.8,
             "#7fbc41"
            ],
            [
             0.9,
             "#4d9221"
            ],
            [
             1,
             "#276419"
            ]
           ],
           "sequential": [
            [
             0,
             "#0d0887"
            ],
            [
             0.1111111111111111,
             "#46039f"
            ],
            [
             0.2222222222222222,
             "#7201a8"
            ],
            [
             0.3333333333333333,
             "#9c179e"
            ],
            [
             0.4444444444444444,
             "#bd3786"
            ],
            [
             0.5555555555555556,
             "#d8576b"
            ],
            [
             0.6666666666666666,
             "#ed7953"
            ],
            [
             0.7777777777777778,
             "#fb9f3a"
            ],
            [
             0.8888888888888888,
             "#fdca26"
            ],
            [
             1,
             "#f0f921"
            ]
           ],
           "sequentialminus": [
            [
             0,
             "#0d0887"
            ],
            [
             0.1111111111111111,
             "#46039f"
            ],
            [
             0.2222222222222222,
             "#7201a8"
            ],
            [
             0.3333333333333333,
             "#9c179e"
            ],
            [
             0.4444444444444444,
             "#bd3786"
            ],
            [
             0.5555555555555556,
             "#d8576b"
            ],
            [
             0.6666666666666666,
             "#ed7953"
            ],
            [
             0.7777777777777778,
             "#fb9f3a"
            ],
            [
             0.8888888888888888,
             "#fdca26"
            ],
            [
             1,
             "#f0f921"
            ]
           ]
          },
          "colorway": [
           "#636efa",
           "#EF553B",
           "#00cc96",
           "#ab63fa",
           "#FFA15A",
           "#19d3f3",
           "#FF6692",
           "#B6E880",
           "#FF97FF",
           "#FECB52"
          ],
          "font": {
           "color": "#2a3f5f"
          },
          "geo": {
           "bgcolor": "white",
           "lakecolor": "white",
           "landcolor": "#E5ECF6",
           "showlakes": true,
           "showland": true,
           "subunitcolor": "white"
          },
          "hoverlabel": {
           "align": "left"
          },
          "hovermode": "closest",
          "mapbox": {
           "style": "light"
          },
          "paper_bgcolor": "white",
          "plot_bgcolor": "#E5ECF6",
          "polar": {
           "angularaxis": {
            "gridcolor": "white",
            "linecolor": "white",
            "ticks": ""
           },
           "bgcolor": "#E5ECF6",
           "radialaxis": {
            "gridcolor": "white",
            "linecolor": "white",
            "ticks": ""
           }
          },
          "scene": {
           "xaxis": {
            "backgroundcolor": "#E5ECF6",
            "gridcolor": "white",
            "gridwidth": 2,
            "linecolor": "white",
            "showbackground": true,
            "ticks": "",
            "zerolinecolor": "white"
           },
           "yaxis": {
            "backgroundcolor": "#E5ECF6",
            "gridcolor": "white",
            "gridwidth": 2,
            "linecolor": "white",
            "showbackground": true,
            "ticks": "",
            "zerolinecolor": "white"
           },
           "zaxis": {
            "backgroundcolor": "#E5ECF6",
            "gridcolor": "white",
            "gridwidth": 2,
            "linecolor": "white",
            "showbackground": true,
            "ticks": "",
            "zerolinecolor": "white"
           }
          },
          "shapedefaults": {
           "line": {
            "color": "#2a3f5f"
           }
          },
          "ternary": {
           "aaxis": {
            "gridcolor": "white",
            "linecolor": "white",
            "ticks": ""
           },
           "baxis": {
            "gridcolor": "white",
            "linecolor": "white",
            "ticks": ""
           },
           "bgcolor": "#E5ECF6",
           "caxis": {
            "gridcolor": "white",
            "linecolor": "white",
            "ticks": ""
           }
          },
          "title": {
           "x": 0.05
          },
          "xaxis": {
           "automargin": true,
           "gridcolor": "white",
           "linecolor": "white",
           "ticks": "",
           "title": {
            "standoff": 15
           },
           "zerolinecolor": "white",
           "zerolinewidth": 2
          },
          "yaxis": {
           "automargin": true,
           "gridcolor": "white",
           "linecolor": "white",
           "ticks": "",
           "title": {
            "standoff": 15
           },
           "zerolinecolor": "white",
           "zerolinewidth": 2
          }
         }
        },
        "title": {
         "text": "Market Cap vs Stock Price"
        },
        "xaxis": {
         "anchor": "y",
         "domain": [
          0,
          1
         ],
         "title": {
          "text": "Market Cap"
         }
        },
        "yaxis": {
         "anchor": "x",
         "domain": [
          0,
          1
         ],
         "title": {
          "text": "Price"
         }
        }
       }
      }
     },
     "metadata": {},
     "output_type": "display_data"
    }
   ],
   "source": [
    "fig = px.scatter(df, x=\"Market Cap\", y=\"Price\", color=\"Sector\",\n",
    "                 title=\"Market Cap vs Stock Price\", size=\"Market Cap\",\n",
    "                 hover_data=[\"Name\"])\n",
    "fig.show()"
   ]
  },
  {
   "cell_type": "markdown",
   "metadata": {},
   "source": [
    "Linear Regression Analysis (Market Cap Prediction)"
   ]
  },
  {
   "cell_type": "code",
   "execution_count": 28,
   "metadata": {},
   "outputs": [
    {
     "name": "stdout",
     "output_type": "stream",
     "text": [
      "Regression Coefficients: [ 2.98553647e+08  9.83009946e+07 -1.28169379e+09  4.10134981e+07\n",
      "  2.64288768e+07]\n",
      "Intercept: 20216312014.421543\n"
     ]
    }
   ],
   "source": [
    "from sklearn.linear_model import LinearRegression\n",
    "import pandas as pd\n",
    "\n",
    "X = df[['Price', 'Price/Earnings', 'Earnings/Share', 'Price/Sales', 'Price/Book']]\n",
    "y = df['Market Cap']  \n",
    "\n",
    "model = LinearRegression()\n",
    "model.fit(X, y)\n",
    "\n",
    "print(\"Regression Coefficients:\", model.coef_)\n",
    "print(\"Intercept:\", model.intercept_)"
   ]
  }
 ],
 "metadata": {
  "kernelspec": {
   "display_name": "Python 3",
   "language": "python",
   "name": "python3"
  },
  "language_info": {
   "codemirror_mode": {
    "name": "ipython",
    "version": 3
   },
   "file_extension": ".py",
   "mimetype": "text/x-python",
   "name": "python",
   "nbconvert_exporter": "python",
   "pygments_lexer": "ipython3",
   "version": "3.12.4"
  }
 },
 "nbformat": 4,
 "nbformat_minor": 2
}
